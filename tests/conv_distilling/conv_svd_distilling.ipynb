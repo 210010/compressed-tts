{
 "cells": [
  {
   "cell_type": "markdown",
   "metadata": {},
   "source": [
    "# Distilling convolutions in Tacotron 2"
   ]
  },
  {
   "cell_type": "markdown",
   "metadata": {},
   "source": [
    "Firstly, download Tacotron 2 checkpoint: https://drive.google.com/file/d/1c5ZTuT7J08wLUoVZ2KkUs_VdZuJ86ZqA/view.\n",
    "\n",
    "Then install requirements from the project root folder: `pip install -r requirements.txt`"
   ]
  },
  {
   "cell_type": "code",
   "execution_count": 1,
   "metadata": {},
   "outputs": [],
   "source": [
    "import warnings\n",
    "warnings.filterwarnings('ignore')\n",
    "\n",
    "import sys\n",
    "sys.path.insert(0, \"../../\")\n",
    "sys.path.insert(0, \"../../tacotron2/\")\n",
    "\n",
    "import json\n",
    "import torch\n",
    "import numpy as np\n",
    "import matplotlib.pyplot as plt\n",
    "from datetime import datetime\n",
    "from IPython.display import Audio\n",
    "from IPython.display import display\n",
    "\n",
    "from audio.vocoders import griffin_lim\n",
    "from tacotron2.model import Tacotron2\n",
    "from tacotron2.text import text_to_sequence, sequence_to_text\n",
    "from module import ConvModule"
   ]
  },
  {
   "cell_type": "markdown",
   "metadata": {},
   "source": [
    "___\n",
    "## **1 Loading ground truth model**\n",
    "Tacotron 2:"
   ]
  },
  {
   "cell_type": "code",
   "execution_count": 2,
   "metadata": {},
   "outputs": [],
   "source": [
    "TACOTRON_CONFIG=json.load(open('./../../tacotron2/config.json', 'r'))\n",
    "TACOTRON_CHECKPT='./../../checkpoints/tacotron2_statedict.pt'"
   ]
  },
  {
   "cell_type": "code",
   "execution_count": 3,
   "metadata": {},
   "outputs": [
    {
     "name": "stdout",
     "output_type": "stream",
     "text": [
      "Number of parameters: 28193153\n"
     ]
    }
   ],
   "source": [
    "tacotron2 = Tacotron2(TACOTRON_CONFIG)\n",
    "checkpt_state_dict = torch.load(TACOTRON_CHECKPT,\n",
    "                                map_location=lambda storage, loc: storage)['state_dict']\n",
    "tacotron2.load_state_dict(checkpt_state_dict)\n",
    "_ = tacotron2.cpu().eval()\n",
    "\n",
    "print('Number of parameters:', tacotron2.nparams())"
   ]
  },
  {
   "cell_type": "markdown",
   "metadata": {},
   "source": [
    "Ground truth convolutional module:"
   ]
  },
  {
   "cell_type": "code",
   "execution_count": 4,
   "metadata": {},
   "outputs": [],
   "source": [
    "SAVE_MODULE=False\n",
    "\n",
    "conv_module = ConvModule(TACOTRON_CONFIG)\n",
    "conv_module.embedding = tacotron2.embedding\n",
    "conv_module.convolutions = tacotron2.encoder.convolutions\n",
    "\n",
    "if SAVE_MODULE:\n",
    "    torch.save(conv_module.state_dict(), 'conv_module.pt')"
   ]
  },
  {
   "cell_type": "markdown",
   "metadata": {},
   "source": [
    "What shape has output?"
   ]
  },
  {
   "cell_type": "code",
   "execution_count": 5,
   "metadata": {},
   "outputs": [
    {
     "data": {
      "text/plain": [
       "torch.Size([2, 512, 10])"
      ]
     },
     "execution_count": 5,
     "metadata": {},
     "output_type": "execute_result"
    }
   ],
   "source": [
    "conv_module.forward(torch.LongTensor([[0, 1, 2, 3, 4, 5, 6, 7, 8, 9]] * 2)).shape"
   ]
  },
  {
   "cell_type": "markdown",
   "metadata": {},
   "source": [
    "___\n",
    "## **2 Defining compressed version**"
   ]
  },
  {
   "cell_type": "code",
   "execution_count": 6,
   "metadata": {},
   "outputs": [],
   "source": [
    "dist_module = ..."
   ]
  },
  {
   "cell_type": "markdown",
   "metadata": {},
   "source": [
    "___\n",
    "## **3 Distilling**"
   ]
  },
  {
   "cell_type": "code",
   "execution_count": 7,
   "metadata": {},
   "outputs": [],
   "source": [
    "from data import TextDataset, TextCollate\n",
    "from torch.utils.data import DataLoader\n",
    "\n",
    "N_EPOCHS=100\n",
    "BACTH_SIZE=64\n",
    "ITER_PER_VERBOSE_TRAIN=5\n",
    "ITER_PER_VERBOSE_TEST=50\n",
    "\n",
    "device = torch.device('cpu:0')"
   ]
  },
  {
   "cell_type": "code",
   "execution_count": 8,
   "metadata": {},
   "outputs": [],
   "source": [
    "train_dataset = TextDataset('./filelists/ljs_audio_text_train_filelist.txt', TACOTRON_CONFIG)\n",
    "test_dataset = TextDataset('./filelists/ljs_audio_text_test_filelist.txt', TACOTRON_CONFIG)\n",
    "\n",
    "train_loader = DataLoader(\n",
    "    dataset=train_dataset,\n",
    "    batch_size=BACTH_SIZE,\n",
    "    num_workers=1,\n",
    "    collate_fn=TextCollate(),\n",
    "    drop_last=True\n",
    ")\n",
    "tets_loader = DataLoader(\n",
    "    dataset=test_dataset,\n",
    "    batch_size=BACTH_SIZE,\n",
    "    num_workers=1,\n",
    "    collate_fn=TextCollate(),\n",
    "    drop_last=True\n",
    ")"
   ]
  },
  {
   "cell_type": "code",
   "execution_count": null,
   "metadata": {},
   "outputs": [],
   "source": [
    "criterion = torch.nn.MSELoss()\n",
    "optimizer = torch.optim.Adam(dist_module.parameters())"
   ]
  },
  {
   "cell_type": "code",
   "execution_count": null,
   "metadata": {},
   "outputs": [],
   "source": [
    "scores = []\n",
    "for epoch in range(N_EPOCHS):\n",
    "    epoch_scores = []\n",
    "    for iteration, (x, y) for enumerate(train_dataloader):\n",
    "        dist_module.zero_grad()\n",
    "        if ON_GPU:\n",
    "            x = x.to(device)\n",
    "            y = y.to(device)\n",
    "\n",
    "        y_hat = dist_module(x)\n",
    "\n",
    "        loss = criterion(y, y_hat)\n",
    "        epoch_scores.append(loss.item())\n",
    "        loss.backward()\n",
    "\n",
    "        #grad_norm = torch.nn.utils.clip_grad_norm_(model.parameters(), 1.)\n",
    "\n",
    "        optimizer.step()\n",
    "        dist_module.zero_grad()\n",
    "        \n",
    "        if i % ITER_PER_VERBOSE_TRAIN == 0:\n",
    "            print('Epoch: {} | Step: {} | Loss: {}'.format(\n",
    "                epoch + 1,\n",
    "                iteration,\n",
    "                loss\n",
    "            ))\n",
    "        if i % ITER_PER_VERBOSE_TEST == 0:\n",
    "            print('Epoch: {} | Step: {} | Loss: {}'.format(\n",
    "                epoch + 1,\n",
    "                iteration,\n",
    "                loss\n",
    "            ))\n",
    "    \n",
    "    print('######################')\n",
    "    print('Best score for epoch #{} = '.format(epoch + 1, max(epoch_scores)))\n",
    "    print('######################')\n",
    "    scores += epoch_scores"
   ]
  },
  {
   "cell_type": "markdown",
   "metadata": {},
   "source": [
    "___\n",
    "## **4 Quick synthesis check**"
   ]
  },
  {
   "cell_type": "markdown",
   "metadata": {},
   "source": [
    "Replace ground truth convolutions with distilled ones somehow."
   ]
  },
  {
   "cell_type": "code",
   "execution_count": null,
   "metadata": {},
   "outputs": [],
   "source": [
    "from audio import MelTransformer"
   ]
  },
  {
   "cell_type": "code",
   "execution_count": null,
   "metadata": {},
   "outputs": [],
   "source": [
    "tacotron2.encoder.convolutions = ..."
   ]
  },
  {
   "cell_type": "code",
   "execution_count": null,
   "metadata": {},
   "outputs": [],
   "source": [
    "texts = [\"Implicit learning of the likelihood makes normalizing flows very strong generative tool.\"]\n",
    "assert len(texts) > 0\n",
    "texts = [text.strip() for text in texts]\n",
    "sequences = [np.array(text_to_sequence(text, ['english_cleaners']))[None, :]\n",
    "             for text in texts]\n",
    "sequences = [torch.autograd.Variable(torch.from_numpy(sequence)).long()\n",
    "             for sequence in sequences]"
   ]
  },
  {
   "cell_type": "code",
   "execution_count": null,
   "metadata": {},
   "outputs": [],
   "source": [
    "TEXT_IDX = 0\n",
    "\n",
    "with torch.no_grad():\n",
    "    mel_outputs, mel_outputs_postnet, gate_outputs, alignments = tacotron2.inference(sequences[TEXT_IDX])"
   ]
  },
  {
   "cell_type": "code",
   "execution_count": null,
   "metadata": {},
   "outputs": [],
   "source": [
    "mel_transform = MelTransformer(\n",
    "    TACOTRON_CONFIG['filter_length'],\n",
    "    TACOTRON_CONFIG['hop_length'],\n",
    "    TACOTRON_CONFIG['win_length'], \n",
    "    sampling_rate=22050\n",
    ").cpu()\n",
    "mel_decompress = mel_transform._spectral_de_normalize(mel_outputs_postnet.cpu())\n",
    "mel_decompress = mel_decompress.transpose(1, 2).data.cpu()\n",
    "spec_from_mel_scaling = 1000\n",
    "spec_from_mel = torch.mm(mel_decompress[0], mel_transform.mel_basis)\n",
    "spec_from_mel = spec_from_mel.transpose(0, 1).unsqueeze(0)\n",
    "spec_from_mel = spec_from_mel * spec_from_mel_scaling\n",
    "waveform = griffin_lim(torch.autograd.Variable(spec_from_mel[:, :, :-1]), \n",
    "                       mel_transform.stft_fn, 50)"
   ]
  },
  {
   "cell_type": "code",
   "execution_count": null,
   "metadata": {},
   "outputs": [],
   "source": [
    "Audio(waveform[0].data.cpu().numpy(), rate=22050)"
   ]
  }
 ],
 "metadata": {
  "kernelspec": {
   "display_name": "Python 3",
   "language": "python",
   "name": "python3"
  },
  "language_info": {
   "codemirror_mode": {
    "name": "ipython",
    "version": 3
   },
   "file_extension": ".py",
   "mimetype": "text/x-python",
   "name": "python",
   "nbconvert_exporter": "python",
   "pygments_lexer": "ipython3",
   "version": "3.7.3"
  }
 },
 "nbformat": 4,
 "nbformat_minor": 4
}
