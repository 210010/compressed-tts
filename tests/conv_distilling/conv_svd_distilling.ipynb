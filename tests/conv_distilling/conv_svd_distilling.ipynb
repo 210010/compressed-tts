{
 "cells": [
  {
   "cell_type": "markdown",
   "metadata": {},
   "source": [
    "# Distilling convolutions in Tacotron 2"
   ]
  },
  {
   "cell_type": "markdown",
   "metadata": {},
   "source": [
    "Firstly, download Tacotron 2 checkpoint: https://drive.google.com/file/d/1c5ZTuT7J08wLUoVZ2KkUs_VdZuJ86ZqA/view.\n",
    "\n",
    "Then install requirements from the project root folder: `pip install -r requirements.txt`"
   ]
  },
  {
   "cell_type": "code",
   "execution_count": 1,
   "metadata": {},
   "outputs": [],
   "source": [
    "import warnings\n",
    "warnings.filterwarnings('ignore')\n",
    "\n",
    "import sys\n",
    "sys.path.insert(0, \"../../\")\n",
    "sys.path.insert(0, \"../../tacotron2/\")\n",
    "\n",
    "import json\n",
    "import torch\n",
    "import numpy as np\n",
    "import matplotlib.pyplot as plt\n",
    "from datetime import datetime\n",
    "from IPython.display import Audio\n",
    "\n",
    "from audio.vocoders import griffin_lim\n",
    "from tacotron2.model import Tacotron2\n",
    "from tacotron2.text import text_to_sequence, sequence_to_text\n",
    "from module import ConvModule"
   ]
  },
  {
   "cell_type": "markdown",
   "metadata": {},
   "source": [
    "___\n",
    "## **1 Loading model**\n",
    "Tacotron 2:"
   ]
  },
  {
   "cell_type": "code",
   "execution_count": 2,
   "metadata": {},
   "outputs": [],
   "source": [
    "TACOTRON_CONFIG=json.load(open('./../../tacotron2/config.json', 'r'))\n",
    "TACOTRON_CHECKPT='./../../checkpoints/tacotron2_statedict.pt'\n",
    "ON_GPU=False"
   ]
  },
  {
   "cell_type": "code",
   "execution_count": 3,
   "metadata": {},
   "outputs": [
    {
     "name": "stdout",
     "output_type": "stream",
     "text": [
      "Number of parameters: 28193153\n"
     ]
    }
   ],
   "source": [
    "tacotron2 = Tacotron2(TACOTRON_CONFIG)\n",
    "checkpt_state_dict = torch.load(TACOTRON_CHECKPT,\n",
    "                                map_location=lambda storage, loc: storage)['state_dict']\n",
    "tacotron2.load_state_dict(checkpt_state_dict)\n",
    "_ = tacotron2.cuda().eval() if ON_GPU else tacotron2.cpu().eval()\n",
    "\n",
    "print('Number of parameters:', tacotron2.nparams())"
   ]
  },
  {
   "cell_type": "markdown",
   "metadata": {},
   "source": [
    "Ground truth convolutional module:"
   ]
  },
  {
   "cell_type": "code",
   "execution_count": 4,
   "metadata": {},
   "outputs": [],
   "source": [
    "SAVE_MODULE=False\n",
    "\n",
    "conv_module = ConvModule(TACOTRON_CONFIG)\n",
    "conv_module.embedding = tacotron2.embedding\n",
    "conv_module.convolutions = tacotron2.encoder.convolutions\n",
    "\n",
    "if SAVE_MODULE:\n",
    "    torch.save(conv_module.state_dict(), 'conv_module.pt')"
   ]
  },
  {
   "cell_type": "markdown",
   "metadata": {},
   "source": [
    "What shape has output?"
   ]
  },
  {
   "cell_type": "code",
   "execution_count": 9,
   "metadata": {},
   "outputs": [
    {
     "data": {
      "text/plain": [
       "torch.Size([2, 512, 11])"
      ]
     },
     "execution_count": 9,
     "metadata": {},
     "output_type": "execute_result"
    }
   ],
   "source": [
    "conv_module.forward(torch.LongTensor([[0, 1, 2, 3, 4, 5, 6, 7, 8, 9, 10]] * 2)).shape"
   ]
  },
  {
   "cell_type": "markdown",
   "metadata": {},
   "source": [
    "## **2 Distilling**"
   ]
  },
  {
   "cell_type": "code",
   "execution_count": 12,
   "metadata": {},
   "outputs": [],
   "source": [
    "from data import TextDataset, TextCollate\n",
    "from torch.utils.data import DataLoader"
   ]
  },
  {
   "cell_type": "code",
   "execution_count": null,
   "metadata": {},
   "outputs": [],
   "source": [
    "train_dataset = TextDataset('./filelists/ljs_audio_text_train_filelist.txt', config)\n",
    "test_dataset = TextDataset('./filelists/ljs_audio_text_test_filelist.txt', config)\n",
    "\n",
    "train_dataloader = DataLoader(\n",
    "    dataset=train_dataset,\n",
    "    batch_size=64,\n",
    "    num_workers=1,\n",
    "    collate_fn=TextCollate(),\n",
    "    drop_last=True\n",
    ")\n",
    "train_dataloader = DataLoader(\n",
    "    dataset=test_dataset,\n",
    "    batch_size=64,\n",
    "    num_workers=1,\n",
    "    collate_fn=TextCollate(),\n",
    "    drop_last=True\n",
    ")"
   ]
  },
  {
   "cell_type": "markdown",
   "metadata": {},
   "source": [
    "## **3 Quick synthesis check**"
   ]
  },
  {
   "cell_type": "code",
   "execution_count": 14,
   "metadata": {},
   "outputs": [
    {
     "data": {
      "text/plain": [
       "[[0, 1, 2, 3, 4, 5, 6, 7, 8, 9, 10], [0, 1, 2, 3, 4, 5, 6, 7, 8, 9, 10]]"
      ]
     },
     "execution_count": 14,
     "metadata": {},
     "output_type": "execute_result"
    }
   ],
   "source": [
    "([[0, 1, 2, 3, 4, 5, 6, 7, 8, 9, 10]] * 2)"
   ]
  },
  {
   "cell_type": "code",
   "execution_count": null,
   "metadata": {},
   "outputs": [],
   "source": []
  }
 ],
 "metadata": {
  "kernelspec": {
   "display_name": "Python 3",
   "language": "python",
   "name": "python3"
  },
  "language_info": {
   "codemirror_mode": {
    "name": "ipython",
    "version": 3
   },
   "file_extension": ".py",
   "mimetype": "text/x-python",
   "name": "python",
   "nbconvert_exporter": "python",
   "pygments_lexer": "ipython3",
   "version": "3.7.3"
  }
 },
 "nbformat": 4,
 "nbformat_minor": 4
}
